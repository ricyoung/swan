{
  "nbformat": 4,
  "nbformat_minor": 5,
  "metadata": {
    "kernelspec": {
      "display_name": "Python 3",
      "language": "python",
      "name": "python3"
    },
    "language_info": {
      "codemirror_mode": {
        "name": "ipython",
        "version": 3
      },
      "file_extension": ".py",
      "mimetype": "text/x-python",
      "name": "python",
      "nbconvert_exporter": "python",
      "pygments_lexer": "ipython3",
      "version": "3.7.4"
    },
    "colab": {
      "name": "swan.ipynb",
      "provenance": [],
      "machine_shape": "hm"
    }
  },
  "cells": [
    {
      "cell_type": "markdown",
      "metadata": {
        "id": "regular-blackjack"
      },
      "source": [
        "## Data processing with Swan\n",
        "The following section was already run so you don't have to wait for results, but you're welcome to give it a try!"
      ],
      "id": "regular-blackjack"
    },
    {
      "cell_type": "code",
      "metadata": {
        "id": "downtown-anger",
        "outputId": "92c4864d-1e35-4386-cffa-8ce4ab111b8d",
        "colab": {
          "base_uri": "https://localhost:8080/"
        }
      },
      "source": [
        "# data download\n",
        "!wget http://crick.bio.uci.edu/freese/210830_ucd_workshop/data.tgz\n",
        "!tar -xf data.tgz"
      ],
      "id": "downtown-anger",
      "execution_count": 1,
      "outputs": [
        {
          "output_type": "stream",
          "name": "stdout",
          "text": [
            "--2021-09-01 17:25:26--  http://crick.bio.uci.edu/freese/210830_ucd_workshop/data.tgz\n",
            "Resolving crick.bio.uci.edu (crick.bio.uci.edu)... 128.200.7.30\n",
            "Connecting to crick.bio.uci.edu (crick.bio.uci.edu)|128.200.7.30|:80... connected.\n",
            "HTTP request sent, awaiting response... 200 OK\n",
            "Length: 12069154 (12M) [application/x-gzip]\n",
            "Saving to: ‘data.tgz’\n",
            "\n",
            "data.tgz            100%[===================>]  11.51M  2.98MB/s    in 4.8s    \n",
            "\n",
            "2021-09-01 17:25:31 (2.42 MB/s) - ‘data.tgz’ saved [12069154/12069154]\n",
            "\n"
          ]
        }
      ]
    },
    {
      "cell_type": "code",
      "metadata": {
        "id": "vc9CA0jWXor5",
        "outputId": "4bb86a86-2fa8-4b76-9ab9-fe340f6df4d5",
        "colab": {
          "base_uri": "https://localhost:8080/"
        }
      },
      "source": [
        "from google.colab import drive\n",
        "drive.mount('/content/drive')"
      ],
      "id": "vc9CA0jWXor5",
      "execution_count": 2,
      "outputs": [
        {
          "output_type": "stream",
          "name": "stdout",
          "text": [
            "Mounted at /content/drive\n"
          ]
        }
      ]
    },
    {
      "cell_type": "code",
      "metadata": {
        "id": "JSYJymo2UdLK",
        "outputId": "2377ea99-0d52-4f2b-cd42-867360edd65d",
        "colab": {
          "base_uri": "https://localhost:8080/"
        }
      },
      "source": [
        "cp -Rfv /content/drive/MyDrive/gencode.vM21.annotation.gtf /content/data/"
      ],
      "id": "JSYJymo2UdLK",
      "execution_count": 3,
      "outputs": [
        {
          "output_type": "stream",
          "name": "stdout",
          "text": [
            "'/content/drive/MyDrive/gencode.vM21.annotation.gtf' -> '/content/data/gencode.vM21.annotation.gtf'\n"
          ]
        }
      ]
    },
    {
      "cell_type": "code",
      "metadata": {
        "id": "glmvV0eMZZFr",
        "outputId": "9b9fe8a9-e527-4a59-d5be-de65783217f9",
        "colab": {
          "base_uri": "https://localhost:8080/"
        }
      },
      "source": [
        "!tar -czvf all_data.tar.gz /content/data/"
      ],
      "id": "glmvV0eMZZFr",
      "execution_count": 4,
      "outputs": [
        {
          "output_type": "stream",
          "name": "stdout",
          "text": [
            "tar: Removing leading `/' from member names\n",
            "/content/data/\n",
            "/content/data/all_talon_abundance_filtered.tsv\n",
            "/content/data/gencode.vM21.annotation.gtf\n",
            "/content/data/metadata.tsv\n",
            "/content/data/all_pass_list.csv\n",
            "/content/data/all_talon_observedOnly.gtf\n"
          ]
        }
      ]
    },
    {
      "cell_type": "code",
      "metadata": {
        "id": "PWAsBSYLZoeY",
        "outputId": "b4d017c1-91a2-428f-fc0f-cb36b3124f1b",
        "colab": {
          "base_uri": "https://localhost:8080/"
        }
      },
      "source": [
        "cp -Rfv /content/all_data.tar.gz /content/drive/MyDrive"
      ],
      "id": "PWAsBSYLZoeY",
      "execution_count": 6,
      "outputs": [
        {
          "output_type": "stream",
          "name": "stdout",
          "text": [
            "'/content/all_data.tar.gz' -> '/content/drive/MyDrive/all_data.tar.gz'\n"
          ]
        }
      ]
    },
    {
      "cell_type": "code",
      "metadata": {
        "id": "yah-xlyhUTI3",
        "outputId": "ae84f364-b5ed-44bc-88de-c2cdddff77c7",
        "colab": {
          "base_uri": "https://localhost:8080/"
        }
      },
      "source": [
        "!pip install swan_vis"
      ],
      "id": "yah-xlyhUTI3",
      "execution_count": 7,
      "outputs": [
        {
          "output_type": "stream",
          "name": "stdout",
          "text": [
            "Collecting swan_vis\n",
            "  Downloading swan_vis-2.0.tar.gz (53.4 MB)\n",
            "\u001b[K     |████████████████████████████████| 53.4 MB 54 kB/s \n",
            "\u001b[?25hCollecting fpdf\n",
            "  Downloading fpdf-1.7.2.tar.gz (39 kB)\n",
            "Requirement already satisfied: matplotlib in /usr/local/lib/python3.7/dist-packages (from swan_vis) (3.2.2)\n",
            "Requirement already satisfied: scipy in /usr/local/lib/python3.7/dist-packages (from swan_vis) (1.4.1)\n",
            "Collecting statsmodels>=0.12.2\n",
            "  Downloading statsmodels-0.12.2-cp37-cp37m-manylinux1_x86_64.whl (9.5 MB)\n",
            "\u001b[K     |████████████████████████████████| 9.5 MB 42.0 MB/s \n",
            "\u001b[?25hRequirement already satisfied: numpy in /usr/local/lib/python3.7/dist-packages (from swan_vis) (1.19.5)\n",
            "Requirement already satisfied: pandas>=1.1.0 in /usr/local/lib/python3.7/dist-packages (from swan_vis) (1.1.5)\n",
            "Requirement already satisfied: pytest in /usr/local/lib/python3.7/dist-packages (from swan_vis) (3.6.4)\n",
            "Requirement already satisfied: networkx>=2.5 in /usr/local/lib/python3.7/dist-packages (from swan_vis) (2.6.2)\n",
            "Requirement already satisfied: tqdm in /usr/local/lib/python3.7/dist-packages (from swan_vis) (4.62.0)\n",
            "Collecting anndata>=0.7\n",
            "  Downloading anndata-0.7.6-py3-none-any.whl (127 kB)\n",
            "\u001b[K     |████████████████████████████████| 127 kB 73.3 MB/s \n",
            "\u001b[?25hCollecting diffxpy==0.7.4\n",
            "  Downloading diffxpy-0.7.4-py3-none-any.whl (85 kB)\n",
            "\u001b[K     |████████████████████████████████| 85 kB 4.1 MB/s \n",
            "\u001b[?25hCollecting batchglm>=0.7.4\n",
            "  Downloading batchglm-0.7.4-py3-none-any.whl (140 kB)\n",
            "\u001b[K     |████████████████████████████████| 140 kB 74.1 MB/s \n",
            "\u001b[?25hRequirement already satisfied: patsy>=0.5.0 in /usr/local/lib/python3.7/dist-packages (from diffxpy==0.7.4->swan_vis) (0.5.1)\n",
            "Requirement already satisfied: h5py in /usr/local/lib/python3.7/dist-packages (from anndata>=0.7->swan_vis) (3.1.0)\n",
            "Requirement already satisfied: importlib_metadata>=0.7 in /usr/local/lib/python3.7/dist-packages (from anndata>=0.7->swan_vis) (4.6.4)\n",
            "Requirement already satisfied: xlrd<2.0 in /usr/local/lib/python3.7/dist-packages (from anndata>=0.7->swan_vis) (1.1.0)\n",
            "Requirement already satisfied: natsort in /usr/local/lib/python3.7/dist-packages (from anndata>=0.7->swan_vis) (5.5.0)\n",
            "Requirement already satisfied: packaging>=20 in /usr/local/lib/python3.7/dist-packages (from anndata>=0.7->swan_vis) (21.0)\n",
            "Collecting sparse\n",
            "  Downloading sparse-0.13.0-py2.py3-none-any.whl (77 kB)\n",
            "\u001b[K     |████████████████████████████████| 77 kB 6.3 MB/s \n",
            "\u001b[?25hRequirement already satisfied: toolz in /usr/local/lib/python3.7/dist-packages (from batchglm>=0.7.4->diffxpy==0.7.4->swan_vis) (0.11.1)\n",
            "Requirement already satisfied: dask in /usr/local/lib/python3.7/dist-packages (from batchglm>=0.7.4->diffxpy==0.7.4->swan_vis) (2.12.0)\n",
            "Requirement already satisfied: typing-extensions>=3.6.4 in /usr/local/lib/python3.7/dist-packages (from importlib_metadata>=0.7->anndata>=0.7->swan_vis) (3.7.4.3)\n",
            "Requirement already satisfied: zipp>=0.5 in /usr/local/lib/python3.7/dist-packages (from importlib_metadata>=0.7->anndata>=0.7->swan_vis) (3.5.0)\n",
            "Requirement already satisfied: pyparsing>=2.0.2 in /usr/local/lib/python3.7/dist-packages (from packaging>=20->anndata>=0.7->swan_vis) (2.4.7)\n",
            "Requirement already satisfied: pytz>=2017.2 in /usr/local/lib/python3.7/dist-packages (from pandas>=1.1.0->swan_vis) (2018.9)\n",
            "Requirement already satisfied: python-dateutil>=2.7.3 in /usr/local/lib/python3.7/dist-packages (from pandas>=1.1.0->swan_vis) (2.8.2)\n",
            "Requirement already satisfied: six in /usr/local/lib/python3.7/dist-packages (from patsy>=0.5.0->diffxpy==0.7.4->swan_vis) (1.15.0)\n",
            "Requirement already satisfied: cached-property in /usr/local/lib/python3.7/dist-packages (from h5py->anndata>=0.7->swan_vis) (1.5.2)\n",
            "Requirement already satisfied: kiwisolver>=1.0.1 in /usr/local/lib/python3.7/dist-packages (from matplotlib->swan_vis) (1.3.1)\n",
            "Requirement already satisfied: cycler>=0.10 in /usr/local/lib/python3.7/dist-packages (from matplotlib->swan_vis) (0.10.0)\n",
            "Requirement already satisfied: attrs>=17.4.0 in /usr/local/lib/python3.7/dist-packages (from pytest->swan_vis) (21.2.0)\n",
            "Requirement already satisfied: pluggy<0.8,>=0.5 in /usr/local/lib/python3.7/dist-packages (from pytest->swan_vis) (0.7.1)\n",
            "Requirement already satisfied: py>=1.5.0 in /usr/local/lib/python3.7/dist-packages (from pytest->swan_vis) (1.10.0)\n",
            "Requirement already satisfied: atomicwrites>=1.0 in /usr/local/lib/python3.7/dist-packages (from pytest->swan_vis) (1.4.0)\n",
            "Requirement already satisfied: setuptools in /usr/local/lib/python3.7/dist-packages (from pytest->swan_vis) (57.4.0)\n",
            "Requirement already satisfied: more-itertools>=4.0.0 in /usr/local/lib/python3.7/dist-packages (from pytest->swan_vis) (8.8.0)\n",
            "Requirement already satisfied: numba>=0.49 in /usr/local/lib/python3.7/dist-packages (from sparse->batchglm>=0.7.4->diffxpy==0.7.4->swan_vis) (0.51.2)\n",
            "Requirement already satisfied: llvmlite<0.35,>=0.34.0.dev0 in /usr/local/lib/python3.7/dist-packages (from numba>=0.49->sparse->batchglm>=0.7.4->diffxpy==0.7.4->swan_vis) (0.34.0)\n",
            "Building wheels for collected packages: swan-vis, fpdf\n",
            "  Building wheel for swan-vis (setup.py) ... \u001b[?25l\u001b[?25hdone\n",
            "  Created wheel for swan-vis: filename=swan_vis-2.0-py3-none-any.whl size=54169 sha256=0812c108843265e669800bc91abdfbce0d5dad3f45e7749ed154811791e72ea1\n",
            "  Stored in directory: /root/.cache/pip/wheels/cd/a4/a6/4f380b1c1961654d2a91bc9d4423b0f792df08e0967b7814da\n",
            "  Building wheel for fpdf (setup.py) ... \u001b[?25l\u001b[?25hdone\n",
            "  Created wheel for fpdf: filename=fpdf-1.7.2-py2.py3-none-any.whl size=40722 sha256=08c6b39dc89ef9ab762ed72fdca6124cce31aedeb49aff8c48a42881b4da40db\n",
            "  Stored in directory: /root/.cache/pip/wheels/d7/ca/c8/86467e7957bbbcbdf4cf4870fc7dc95e9a16404b2e3c3a98c3\n",
            "Successfully built swan-vis fpdf\n",
            "Installing collected packages: sparse, anndata, statsmodels, batchglm, fpdf, diffxpy, swan-vis\n",
            "  Attempting uninstall: statsmodels\n",
            "    Found existing installation: statsmodels 0.10.2\n",
            "    Uninstalling statsmodels-0.10.2:\n",
            "      Successfully uninstalled statsmodels-0.10.2\n",
            "Successfully installed anndata-0.7.6 batchglm-0.7.4 diffxpy-0.7.4 fpdf-1.7.2 sparse-0.13.0 statsmodels-0.12.2 swan-vis-2.0\n"
          ]
        }
      ]
    },
    {
      "cell_type": "markdown",
      "metadata": {
        "id": "EJkq1UAvVjBz"
      },
      "source": [
        ""
      ],
      "id": "EJkq1UAvVjBz"
    },
    {
      "cell_type": "code",
      "metadata": {
        "id": "contemporary-apollo"
      },
      "source": [
        "import swan_vis as swan"
      ],
      "id": "contemporary-apollo",
      "execution_count": 8,
      "outputs": []
    },
    {
      "cell_type": "code",
      "metadata": {
        "id": "victorian-methodology"
      },
      "source": [
        "# construct SwanGraph\n",
        "annot_gtf = 'data/gencode.vM21.annotation.gtf'\n",
        "data_gtf = 'data/all_talon_observedOnly.gtf'\n",
        "ab_file = 'data/all_talon_abundance_filtered.tsv'\n",
        "meta = 'data/metadata.tsv'"
      ],
      "id": "victorian-methodology",
      "execution_count": 9,
      "outputs": []
    },
    {
      "cell_type": "code",
      "metadata": {
        "id": "suitable-gates",
        "outputId": "468576dd-5a31-402e-bdc9-a152de596495",
        "colab": {
          "base_uri": "https://localhost:8080/"
        }
      },
      "source": [
        "sg = swan.SwanGraph()\n",
        "sg.add_annotation(annot_gtf)\n",
        "sg.add_transcriptome(data_gtf)\n",
        "sg.add_abundance(ab_file)\n",
        "sg.add_metadata(meta)"
      ],
      "id": "suitable-gates",
      "execution_count": 10,
      "outputs": [
        {
          "output_type": "stream",
          "name": "stdout",
          "text": [
            "\n",
            "Adding annotation to the SwanGraph\n",
            "\n",
            "Adding transcriptome to the SwanGraph\n",
            "\n",
            "Adding abundance for datasets PB154, PB155, PB213, PB214 to SwanGraph.\n"
          ]
        },
        {
          "output_type": "stream",
          "name": "stderr",
          "text": [
            "/usr/local/lib/python3.7/dist-packages/anndata/_core/anndata.py:120: ImplicitModificationWarning: Transforming to str index.\n",
            "  warnings.warn(\"Transforming to str index.\", ImplicitModificationWarning)\n",
            "/usr/local/lib/python3.7/dist-packages/anndata/_core/anndata.py:794: UserWarning: \n",
            "AnnData expects .obs.index to contain strings, but got values like:\n",
            "    [0, 1, 2, 3]\n",
            "\n",
            "    Inferred to be: integer\n",
            "\n",
            "  value_idx = self._prep_dim_index(value.index, attr)\n"
          ]
        }
      ]
    },
    {
      "cell_type": "code",
      "metadata": {
        "id": "rental-privilege",
        "outputId": "b1c02d1b-44c7-4a28-ab32-1391231c361c",
        "colab": {
          "base_uri": "https://localhost:8080/"
        }
      },
      "source": [
        "sg.save_graph('swan')"
      ],
      "id": "rental-privilege",
      "execution_count": 13,
      "outputs": [
        {
          "output_type": "stream",
          "name": "stdout",
          "text": [
            "Saving graph as swan.p\n"
          ]
        }
      ]
    },
    {
      "cell_type": "code",
      "metadata": {
        "id": "74LmG9mQrfxP",
        "outputId": "73ff5086-eae0-47a8-d65c-396780a071b6",
        "colab": {
          "base_uri": "https://localhost:8080/"
        }
      },
      "source": [
        " sg.adata"
      ],
      "id": "74LmG9mQrfxP",
      "execution_count": 17,
      "outputs": [
        {
          "output_type": "execute_result",
          "data": {
            "text/plain": [
              "AnnData object with n_obs × n_vars = 4 × 147921\n",
              "    obs: 'dataset', 'cell_line', 'time_point'\n",
              "    var: 'tid'\n",
              "    uns: 'deg_time_point_0hr_72hr', 'det_time_point_0hr_72hr'\n",
              "    layers: 'counts', 'tpm', 'pi'"
            ]
          },
          "metadata": {},
          "execution_count": 17
        }
      ]
    },
    {
      "cell_type": "code",
      "metadata": {
        "id": "behind-mills",
        "outputId": "01f1348f-e96b-4ff9-dbb7-e3fa8067060a",
        "colab": {
          "base_uri": "https://localhost:8080/"
        }
      },
      "source": [
        "# compare 0 and 72 hr time point \n",
        "obs_col = 'time_point'\n",
        "obs_conditions = ['0hr', '72hr']\n",
        "_ = sg.de_gene_test(obs_col, obs_conditions=obs_conditions)\n",
        "_ = sg.de_transcript_test(obs_col, obs_conditions=obs_conditions)\n",
        "#_ = sg.die_gene_test(obs_col, obs_conditions=obs_conditions)\n",
        "_ = sg.die_gene_test(obs_col=obs_col, obs_conditions=obs_conditions)\n",
        "test = sg.die_gene_test(kind='tss', obs_col=obs_col, obs_conditions=obs_conditions)\n",
        "test = sg.die_gene_test(kind='tes', obs_col=obs_col, obs_conditions=obs_conditions)"
      ],
      "id": "behind-mills",
      "execution_count": null,
      "outputs": [
        {
          "output_type": "stream",
          "name": "stderr",
          "text": [
            "/usr/local/lib/python3.7/dist-packages/anndata/_core/anndata.py:794: UserWarning: \n",
            "AnnData expects .obs.index to contain strings, but got values like:\n",
            "    [0, 1, 2, 3]\n",
            "\n",
            "    Inferred to be: integer\n",
            "\n",
            "  value_idx = self._prep_dim_index(value.index, attr)\n"
          ]
        },
        {
          "output_type": "stream",
          "name": "stdout",
          "text": [
            "training location model: False\n",
            "training scale model: True\n",
            "iter   0: ll=6996682.638280\n",
            "iter   1: ll=6996682.638280, converged: 0.00% (loc: 100.00%, scale update: False), in 0.01sec\n",
            "iter   2: ll=4249931.182629, converged: 75.26% (loc: 75.26%, scale update: True), in 131.47sec\n",
            "iter   3: ll=4249931.182629, converged: 75.26% (loc: 100.00%, scale update: False), in 0.00sec\n",
            "iter   4: ll=3806498.897636, converged: 89.70% (loc: 89.70%, scale update: True), in 39.06sec\n",
            "iter   5: ll=3806498.897636, converged: 89.70% (loc: 100.00%, scale update: False), in 0.00sec\n",
            "iter   6: ll=3801496.071978, converged: 96.88% (loc: 96.88%, scale update: True), in 19.49sec\n",
            "iter   7: ll=3801496.071978, converged: 96.88% (loc: 100.00%, scale update: False), in 0.00sec\n",
            "iter   8: ll=3800320.645557, converged: 98.89% (loc: 98.89%, scale update: True), in 9.87sec\n",
            "iter   9: ll=3800320.645557, converged: 98.89% (loc: 100.00%, scale update: False), in 0.00sec\n",
            "iter  10: ll=3800068.718587, converged: 99.88% (loc: 99.88%, scale update: True), in 5.36sec\n",
            "iter  11: ll=3800068.718587, converged: 99.88% (loc: 100.00%, scale update: False), in 0.00sec\n",
            "iter  12: ll=3800036.131221, converged: 99.98% (loc: 99.98%, scale update: True), in 3.37sec\n",
            "iter  13: ll=3800036.131221, converged: 99.98% (loc: 100.00%, scale update: False), in 0.00sec\n",
            "iter  14: ll=3800034.284737, converged: 100.00% (loc: 100.00%, scale update: True), in 3.04sec\n",
            "iter  15: ll=3800034.284737, converged: 100.00% (loc: 100.00%, scale update: False), in 0.00sec\n",
            "iter  16: ll=3800034.284737, converged: 100.00% (loc: 100.00%, scale update: True), in 1.19sec\n"
          ]
        },
        {
          "output_type": "stream",
          "name": "stderr",
          "text": [
            "/usr/local/lib/python3.7/dist-packages/dask/array/core.py:2627: RuntimeWarning: divide by zero encountered in true_divide\n",
            "  size = (limit / dtype.itemsize / largest_block) ** (1 / len(autos))\n"
          ]
        },
        {
          "output_type": "stream",
          "name": "stdout",
          "text": [
            "training location model: False\n",
            "training scale model: True\n",
            "iter   0: ll=20352732.335516\n",
            "iter   1: ll=20352732.335516, converged: 0.00% (loc: 100.00%, scale update: False), in 0.01sec\n",
            "Fitting 147921 dispersion models: (progress not available with multiprocessing)"
          ]
        }
      ]
    },
    {
      "cell_type": "code",
      "metadata": {
        "id": "orange-sheriff",
        "outputId": "d44b19ae-ecdd-453b-c0e8-25b27d961faf",
        "colab": {
          "base_uri": "https://localhost:8080/",
          "height": 376
        }
      },
      "source": [
        "# find novel exon-skipping and intron retention events\n",
        "_ = sg.find_es_genes()\n",
        "_ = sg.find_ir_genes()"
      ],
      "id": "orange-sheriff",
      "execution_count": 15,
      "outputs": [
        {
          "output_type": "stream",
          "name": "stdout",
          "text": [
            "Analyzing 3438 intronic edges for ES\n"
          ]
        },
        {
          "output_type": "error",
          "ename": "KeyboardInterrupt",
          "evalue": "ignored",
          "traceback": [
            "\u001b[0;31m---------------------------------------------------------------------------\u001b[0m",
            "\u001b[0;31mKeyboardInterrupt\u001b[0m                         Traceback (most recent call last)",
            "\u001b[0;32m<ipython-input-15-2ccc2823b97f>\u001b[0m in \u001b[0;36m<module>\u001b[0;34m()\u001b[0m\n\u001b[1;32m      1\u001b[0m \u001b[0;31m# find novel exon-skipping and intron retention events\u001b[0m\u001b[0;34m\u001b[0m\u001b[0;34m\u001b[0m\u001b[0;34m\u001b[0m\u001b[0m\n\u001b[0;32m----> 2\u001b[0;31m \u001b[0m_\u001b[0m \u001b[0;34m=\u001b[0m \u001b[0msg\u001b[0m\u001b[0;34m.\u001b[0m\u001b[0mfind_es_genes\u001b[0m\u001b[0;34m(\u001b[0m\u001b[0;34m)\u001b[0m\u001b[0;34m\u001b[0m\u001b[0;34m\u001b[0m\u001b[0m\n\u001b[0m\u001b[1;32m      3\u001b[0m \u001b[0m_\u001b[0m \u001b[0;34m=\u001b[0m \u001b[0msg\u001b[0m\u001b[0;34m.\u001b[0m\u001b[0mfind_ir_genes\u001b[0m\u001b[0;34m(\u001b[0m\u001b[0;34m)\u001b[0m\u001b[0;34m\u001b[0m\u001b[0;34m\u001b[0m\u001b[0m\n",
            "\u001b[0;32m/usr/local/lib/python3.7/dist-packages/swan_vis/swangraph.py\u001b[0m in \u001b[0;36mfind_es_genes\u001b[0;34m(self, verbose)\u001b[0m\n\u001b[1;32m   1286\u001b[0m                         \u001b[0msub_G\u001b[0m \u001b[0;34m=\u001b[0m \u001b[0mself\u001b[0m\u001b[0;34m.\u001b[0m\u001b[0mG\u001b[0m\u001b[0;34m.\u001b[0m\u001b[0msubgraph\u001b[0m\u001b[0;34m(\u001b[0m\u001b[0msub_nodes\u001b[0m\u001b[0;34m)\u001b[0m\u001b[0;34m\u001b[0m\u001b[0;34m\u001b[0m\u001b[0m\n\u001b[1;32m   1287\u001b[0m                         \u001b[0msub_edges\u001b[0m \u001b[0;34m=\u001b[0m \u001b[0mlist\u001b[0m\u001b[0;34m(\u001b[0m\u001b[0msub_G\u001b[0m\u001b[0;34m.\u001b[0m\u001b[0medges\u001b[0m\u001b[0;34m(\u001b[0m\u001b[0;34m)\u001b[0m\u001b[0;34m)\u001b[0m\u001b[0;34m\u001b[0m\u001b[0;34m\u001b[0m\u001b[0m\n\u001b[0;32m-> 1288\u001b[0;31m                         \u001b[0mself\u001b[0m\u001b[0;34m.\u001b[0m\u001b[0medge_df\u001b[0m\u001b[0;34m[\u001b[0m\u001b[0;34m'tuple_edge_id'\u001b[0m\u001b[0;34m]\u001b[0m \u001b[0;34m=\u001b[0m \u001b[0mself\u001b[0m\u001b[0;34m.\u001b[0m\u001b[0medge_df\u001b[0m\u001b[0;34m[\u001b[0m\u001b[0;34m[\u001b[0m\u001b[0;34m'v1'\u001b[0m\u001b[0;34m,\u001b[0m \u001b[0;34m'v2'\u001b[0m\u001b[0;34m]\u001b[0m\u001b[0;34m]\u001b[0m\u001b[0;34m.\u001b[0m\u001b[0mapply\u001b[0m\u001b[0;34m(\u001b[0m\u001b[0mtuple\u001b[0m\u001b[0;34m,\u001b[0m \u001b[0maxis\u001b[0m\u001b[0;34m=\u001b[0m\u001b[0;36m1\u001b[0m\u001b[0;34m)\u001b[0m\u001b[0;34m\u001b[0m\u001b[0;34m\u001b[0m\u001b[0m\n\u001b[0m\u001b[1;32m   1289\u001b[0m                         \u001b[0msub_edges\u001b[0m \u001b[0;34m=\u001b[0m \u001b[0mself\u001b[0m\u001b[0;34m.\u001b[0m\u001b[0medge_df\u001b[0m\u001b[0;34m.\u001b[0m\u001b[0mloc\u001b[0m\u001b[0;34m[\u001b[0m\u001b[0mself\u001b[0m\u001b[0;34m.\u001b[0m\u001b[0medge_df\u001b[0m\u001b[0;34m.\u001b[0m\u001b[0mtuple_edge_id\u001b[0m\u001b[0;34m.\u001b[0m\u001b[0misin\u001b[0m\u001b[0;34m(\u001b[0m\u001b[0msub_edges\u001b[0m\u001b[0;34m)\u001b[0m\u001b[0;34m]\u001b[0m\u001b[0;34m\u001b[0m\u001b[0;34m\u001b[0m\u001b[0m\n\u001b[1;32m   1290\u001b[0m                         \u001b[0mself\u001b[0m\u001b[0;34m.\u001b[0m\u001b[0medge_df\u001b[0m\u001b[0;34m.\u001b[0m\u001b[0mdrop\u001b[0m\u001b[0;34m(\u001b[0m\u001b[0;34m'tuple_edge_id'\u001b[0m\u001b[0;34m,\u001b[0m \u001b[0maxis\u001b[0m\u001b[0;34m=\u001b[0m\u001b[0;36m1\u001b[0m\u001b[0;34m,\u001b[0m \u001b[0minplace\u001b[0m\u001b[0;34m=\u001b[0m\u001b[0;32mTrue\u001b[0m\u001b[0;34m)\u001b[0m\u001b[0;34m\u001b[0m\u001b[0;34m\u001b[0m\u001b[0m\n",
            "\u001b[0;32m/usr/local/lib/python3.7/dist-packages/pandas/core/frame.py\u001b[0m in \u001b[0;36mapply\u001b[0;34m(self, func, axis, raw, result_type, args, **kwds)\u001b[0m\n\u001b[1;32m   7550\u001b[0m             \u001b[0mkwds\u001b[0m\u001b[0;34m=\u001b[0m\u001b[0mkwds\u001b[0m\u001b[0;34m,\u001b[0m\u001b[0;34m\u001b[0m\u001b[0;34m\u001b[0m\u001b[0m\n\u001b[1;32m   7551\u001b[0m         )\n\u001b[0;32m-> 7552\u001b[0;31m         \u001b[0;32mreturn\u001b[0m \u001b[0mop\u001b[0m\u001b[0;34m.\u001b[0m\u001b[0mget_result\u001b[0m\u001b[0;34m(\u001b[0m\u001b[0;34m)\u001b[0m\u001b[0;34m\u001b[0m\u001b[0;34m\u001b[0m\u001b[0m\n\u001b[0m\u001b[1;32m   7553\u001b[0m \u001b[0;34m\u001b[0m\u001b[0m\n\u001b[1;32m   7554\u001b[0m     \u001b[0;32mdef\u001b[0m \u001b[0mapplymap\u001b[0m\u001b[0;34m(\u001b[0m\u001b[0mself\u001b[0m\u001b[0;34m,\u001b[0m \u001b[0mfunc\u001b[0m\u001b[0;34m)\u001b[0m \u001b[0;34m->\u001b[0m \u001b[0;34m\"DataFrame\"\u001b[0m\u001b[0;34m:\u001b[0m\u001b[0;34m\u001b[0m\u001b[0;34m\u001b[0m\u001b[0m\n",
            "\u001b[0;32m/usr/local/lib/python3.7/dist-packages/pandas/core/apply.py\u001b[0m in \u001b[0;36mget_result\u001b[0;34m(self)\u001b[0m\n\u001b[1;32m    183\u001b[0m             \u001b[0;32mreturn\u001b[0m \u001b[0mself\u001b[0m\u001b[0;34m.\u001b[0m\u001b[0mapply_raw\u001b[0m\u001b[0;34m(\u001b[0m\u001b[0;34m)\u001b[0m\u001b[0;34m\u001b[0m\u001b[0;34m\u001b[0m\u001b[0m\n\u001b[1;32m    184\u001b[0m \u001b[0;34m\u001b[0m\u001b[0m\n\u001b[0;32m--> 185\u001b[0;31m         \u001b[0;32mreturn\u001b[0m \u001b[0mself\u001b[0m\u001b[0;34m.\u001b[0m\u001b[0mapply_standard\u001b[0m\u001b[0;34m(\u001b[0m\u001b[0;34m)\u001b[0m\u001b[0;34m\u001b[0m\u001b[0;34m\u001b[0m\u001b[0m\n\u001b[0m\u001b[1;32m    186\u001b[0m \u001b[0;34m\u001b[0m\u001b[0m\n\u001b[1;32m    187\u001b[0m     \u001b[0;32mdef\u001b[0m \u001b[0mapply_empty_result\u001b[0m\u001b[0;34m(\u001b[0m\u001b[0mself\u001b[0m\u001b[0;34m)\u001b[0m\u001b[0;34m:\u001b[0m\u001b[0;34m\u001b[0m\u001b[0;34m\u001b[0m\u001b[0m\n",
            "\u001b[0;32m/usr/local/lib/python3.7/dist-packages/pandas/core/apply.py\u001b[0m in \u001b[0;36mapply_standard\u001b[0;34m(self)\u001b[0m\n\u001b[1;32m    274\u001b[0m \u001b[0;34m\u001b[0m\u001b[0m\n\u001b[1;32m    275\u001b[0m     \u001b[0;32mdef\u001b[0m \u001b[0mapply_standard\u001b[0m\u001b[0;34m(\u001b[0m\u001b[0mself\u001b[0m\u001b[0;34m)\u001b[0m\u001b[0;34m:\u001b[0m\u001b[0;34m\u001b[0m\u001b[0;34m\u001b[0m\u001b[0m\n\u001b[0;32m--> 276\u001b[0;31m         \u001b[0mresults\u001b[0m\u001b[0;34m,\u001b[0m \u001b[0mres_index\u001b[0m \u001b[0;34m=\u001b[0m \u001b[0mself\u001b[0m\u001b[0;34m.\u001b[0m\u001b[0mapply_series_generator\u001b[0m\u001b[0;34m(\u001b[0m\u001b[0;34m)\u001b[0m\u001b[0;34m\u001b[0m\u001b[0;34m\u001b[0m\u001b[0m\n\u001b[0m\u001b[1;32m    277\u001b[0m \u001b[0;34m\u001b[0m\u001b[0m\n\u001b[1;32m    278\u001b[0m         \u001b[0;31m# wrap results\u001b[0m\u001b[0;34m\u001b[0m\u001b[0;34m\u001b[0m\u001b[0;34m\u001b[0m\u001b[0m\n",
            "\u001b[0;32m/usr/local/lib/python3.7/dist-packages/pandas/core/apply.py\u001b[0m in \u001b[0;36mapply_series_generator\u001b[0;34m(self)\u001b[0m\n\u001b[1;32m    303\u001b[0m                 \u001b[0;32mfor\u001b[0m \u001b[0mi\u001b[0m\u001b[0;34m,\u001b[0m \u001b[0mv\u001b[0m \u001b[0;32min\u001b[0m \u001b[0menumerate\u001b[0m\u001b[0;34m(\u001b[0m\u001b[0mseries_gen\u001b[0m\u001b[0;34m)\u001b[0m\u001b[0;34m:\u001b[0m\u001b[0;34m\u001b[0m\u001b[0;34m\u001b[0m\u001b[0m\n\u001b[1;32m    304\u001b[0m                     \u001b[0;31m# ignore SettingWithCopy here in case the user mutates\u001b[0m\u001b[0;34m\u001b[0m\u001b[0;34m\u001b[0m\u001b[0;34m\u001b[0m\u001b[0m\n\u001b[0;32m--> 305\u001b[0;31m                     \u001b[0mresults\u001b[0m\u001b[0;34m[\u001b[0m\u001b[0mi\u001b[0m\u001b[0;34m]\u001b[0m \u001b[0;34m=\u001b[0m \u001b[0mself\u001b[0m\u001b[0;34m.\u001b[0m\u001b[0mf\u001b[0m\u001b[0;34m(\u001b[0m\u001b[0mv\u001b[0m\u001b[0;34m)\u001b[0m\u001b[0;34m\u001b[0m\u001b[0;34m\u001b[0m\u001b[0m\n\u001b[0m\u001b[1;32m    306\u001b[0m                     \u001b[0;32mif\u001b[0m \u001b[0misinstance\u001b[0m\u001b[0;34m(\u001b[0m\u001b[0mresults\u001b[0m\u001b[0;34m[\u001b[0m\u001b[0mi\u001b[0m\u001b[0;34m]\u001b[0m\u001b[0;34m,\u001b[0m \u001b[0mABCSeries\u001b[0m\u001b[0;34m)\u001b[0m\u001b[0;34m:\u001b[0m\u001b[0;34m\u001b[0m\u001b[0;34m\u001b[0m\u001b[0m\n\u001b[1;32m    307\u001b[0m                         \u001b[0;31m# If we have a view on v, we need to make a copy because\u001b[0m\u001b[0;34m\u001b[0m\u001b[0;34m\u001b[0m\u001b[0;34m\u001b[0m\u001b[0m\n",
            "\u001b[0;32m/usr/local/lib/python3.7/dist-packages/pandas/core/base.py\u001b[0m in \u001b[0;36m__iter__\u001b[0;34m(self)\u001b[0m\n\u001b[1;32m   1043\u001b[0m         \"\"\"\n\u001b[1;32m   1044\u001b[0m         \u001b[0;31m# We are explicitly making element iterators.\u001b[0m\u001b[0;34m\u001b[0m\u001b[0;34m\u001b[0m\u001b[0;34m\u001b[0m\u001b[0m\n\u001b[0;32m-> 1045\u001b[0;31m         \u001b[0;32mif\u001b[0m \u001b[0;32mnot\u001b[0m \u001b[0misinstance\u001b[0m\u001b[0;34m(\u001b[0m\u001b[0mself\u001b[0m\u001b[0;34m.\u001b[0m\u001b[0m_values\u001b[0m\u001b[0;34m,\u001b[0m \u001b[0mnp\u001b[0m\u001b[0;34m.\u001b[0m\u001b[0mndarray\u001b[0m\u001b[0;34m)\u001b[0m\u001b[0;34m:\u001b[0m\u001b[0;34m\u001b[0m\u001b[0;34m\u001b[0m\u001b[0m\n\u001b[0m\u001b[1;32m   1046\u001b[0m             \u001b[0;31m# Check type instead of dtype to catch DTA/TDA\u001b[0m\u001b[0;34m\u001b[0m\u001b[0;34m\u001b[0m\u001b[0;34m\u001b[0m\u001b[0m\n\u001b[1;32m   1047\u001b[0m             \u001b[0;32mreturn\u001b[0m \u001b[0miter\u001b[0m\u001b[0;34m(\u001b[0m\u001b[0mself\u001b[0m\u001b[0;34m.\u001b[0m\u001b[0m_values\u001b[0m\u001b[0;34m)\u001b[0m\u001b[0;34m\u001b[0m\u001b[0;34m\u001b[0m\u001b[0m\n",
            "\u001b[0;31mKeyboardInterrupt\u001b[0m: "
          ]
        }
      ]
    },
    {
      "cell_type": "code",
      "metadata": {
        "id": "separated-charter",
        "outputId": "c8002c40-73aa-4286-e50b-88c54a1a9f42",
        "colab": {
          "base_uri": "https://localhost:8080/"
        }
      },
      "source": [
        "# save graph again so we have access to all the results \n",
        "sg.save_graph('swan')"
      ],
      "id": "separated-charter",
      "execution_count": 16,
      "outputs": [
        {
          "output_type": "stream",
          "name": "stdout",
          "text": [
            "Saving graph as swan.p\n"
          ]
        }
      ]
    },
    {
      "cell_type": "markdown",
      "metadata": {
        "id": "pursuant-graphics"
      },
      "source": [
        "## Figures generated using bulk C2C12 data for the presentation"
      ],
      "id": "pursuant-graphics"
    },
    {
      "cell_type": "code",
      "metadata": {
        "id": "buried-rouge"
      },
      "source": [
        "import swan_vis as swan\n",
        "import scanpy as sc"
      ],
      "id": "buried-rouge",
      "execution_count": null,
      "outputs": []
    },
    {
      "cell_type": "code",
      "metadata": {
        "id": "narrow-satellite"
      },
      "source": [
        "sg = swan.read('swan.p')"
      ],
      "id": "narrow-satellite",
      "execution_count": null,
      "outputs": []
    },
    {
      "cell_type": "code",
      "metadata": {
        "id": "regular-constant"
      },
      "source": [
        "sg.plot_graph('Tfdp1', indicate_novel=True)"
      ],
      "id": "regular-constant",
      "execution_count": null,
      "outputs": []
    },
    {
      "cell_type": "code",
      "metadata": {
        "id": "secure-kentucky"
      },
      "source": [
        "sg.plot_transcript_path('TALONT000169332', indicate_novel=True)"
      ],
      "id": "secure-kentucky",
      "execution_count": null,
      "outputs": []
    },
    {
      "cell_type": "code",
      "metadata": {
        "id": "sufficient-kazakhstan"
      },
      "source": [
        "sg.gen_report('Chp1',\n",
        "              'figures/chp1',\n",
        "              metadata_cols=['time_point'],\n",
        "              cmap='viridis',\n",
        "              transcript_name=True,\n",
        "              novelty=True,\n",
        "              indicate_novel=True)\n",
        "\n",
        "sg.gen_report('Chp1',\n",
        "              'figures/chp1',\n",
        "              metadata_cols=['time_point'],\n",
        "              cmap='magma',\n",
        "              transcript_name=True,\n",
        "              novelty=True, \n",
        "              layer='pi', \n",
        "              browser=True,\n",
        "              display_numbers=True)\n",
        "\n",
        "sg.adata.var = sg.adata.var.merge(sg.t_df[['gname', 'tname']], left_index=True, right_index=True, how='left')\n",
        "var_names = sg.adata.var.loc[sg.adata.var.gname == 'Chp1', 'tname'].tolist()\n",
        "sc.pl.matrixplot(sg.adata, var_names,\n",
        "                 gene_symbols='tname',\n",
        "                 groupby='time_point', layer='pi',\n",
        "                 cmap='magma', swap_axes=True)"
      ],
      "id": "sufficient-kazakhstan",
      "execution_count": null,
      "outputs": []
    },
    {
      "cell_type": "code",
      "metadata": {
        "id": "behind-divide"
      },
      "source": [
        "sg.gen_report('Tnnt2',\n",
        "              'figures/tnnt2',\n",
        "              metadata_cols=['time_point'],\n",
        "              cmap='viridis',\n",
        "              transcript_name=True,\n",
        "              novelty=True,\n",
        "              indicate_novel=True)\n",
        "\n",
        "sg.gen_report('Tnnt2',\n",
        "              'figures/tnnt2',\n",
        "              metadata_cols=['time_point'],\n",
        "              cmap='magma',\n",
        "              transcript_name=True,\n",
        "              novelty=True, \n",
        "              layer='pi', \n",
        "              browser=True,\n",
        "              display_numbers=True)\n",
        "\n",
        "var_names = sg.tss_adata.var.loc[sg.tss_adata.var.gname == 'Tnnt2', 'tss_name'].tolist()\n",
        "sc.pl.matrixplot(sg.tss_adata, var_names,\n",
        "                 gene_symbols='tss_name',\n",
        "                 groupby='time_point', layer='pi',\n",
        "                 cmap='magma', swap_axes=True)"
      ],
      "id": "behind-divide",
      "execution_count": null,
      "outputs": []
    },
    {
      "cell_type": "code",
      "metadata": {
        "id": "contained-windows"
      },
      "source": [
        "sg.gen_report('Tpm1',\n",
        "              'figures/tpm1',\n",
        "              metadata_cols=['time_point'],\n",
        "              groupby='time_point', \n",
        "              cmap='viridis',\n",
        "              transcript_name=True,\n",
        "              novelty=True,\n",
        "              indicate_novel=True)\n",
        "\n",
        "sg.gen_report('Tpm1',\n",
        "              'figures/tpm1',\n",
        "              metadata_cols=['time_point'],\n",
        "              groupby='time_point', \n",
        "              cmap='viridis',\n",
        "              transcript_name=True,\n",
        "              novelty=True,\n",
        "              indicate_novel=True)\n",
        "\n",
        "var_names = sg.tes_adata.var.loc[sg.tes_adata.var.gname == 'Tpm1', 'tes_name'].tolist()\n",
        "sc.pl.matrixplot(sg.tes_adata, var_names,\n",
        "                 gene_symbols='tes_name',\n",
        "                 groupby='time_point', layer='pi',\n",
        "                 cmap='magma')"
      ],
      "id": "contained-windows",
      "execution_count": null,
      "outputs": []
    },
    {
      "cell_type": "markdown",
      "metadata": {
        "id": "infectious-genre"
      },
      "source": [
        "## Your turn!"
      ],
      "id": "infectious-genre"
    },
    {
      "cell_type": "markdown",
      "metadata": {
        "id": "local-married"
      },
      "source": [
        "### Install Swan\n",
        "\n",
        "Run the block below to install from GitHub directly"
      ],
      "id": "local-married"
    },
    {
      "cell_type": "code",
      "metadata": {
        "id": "black-rescue"
      },
      "source": [
        "!git clone git@github.com:mortazavilab/swan_vis.git\n",
        "!cd swan_vis\n",
        "!pip install ."
      ],
      "id": "black-rescue",
      "execution_count": null,
      "outputs": []
    },
    {
      "cell_type": "markdown",
      "metadata": {
        "id": "generic-category"
      },
      "source": [
        "Alternatively, install from PyPi (this will be exactly the same!)"
      ],
      "id": "generic-category"
    },
    {
      "cell_type": "code",
      "metadata": {
        "id": "abroad-drawing"
      },
      "source": [
        "!pip install swan_vis"
      ],
      "id": "abroad-drawing",
      "execution_count": null,
      "outputs": []
    },
    {
      "cell_type": "markdown",
      "metadata": {
        "id": "opened-pioneer"
      },
      "source": [
        "Now we'll take a look at some of the results from Swan and make some cool plots. Please check out the [documentation](https://freese.gitbook.io/swan/) to get a better idea of the stuff you can do!"
      ],
      "id": "opened-pioneer"
    },
    {
      "cell_type": "code",
      "metadata": {
        "id": "difficult-sussex"
      },
      "source": [
        "# download the SwanGraph\n",
        "!wget http://crick.bio.uci.edu/freese/210830_ucd_workshop/swan.p\n",
        "    \n",
        "# create a figures directory because there will be a lot of output figures!\n",
        "!mkdir figures"
      ],
      "id": "difficult-sussex",
      "execution_count": null,
      "outputs": []
    },
    {
      "cell_type": "code",
      "metadata": {
        "id": "blond-roads"
      },
      "source": [
        "# import swan\n",
        "import swan_vis as swan"
      ],
      "id": "blond-roads",
      "execution_count": null,
      "outputs": []
    },
    {
      "cell_type": "code",
      "metadata": {
        "id": "empty-rochester"
      },
      "source": [
        "# load the SwanGraph\n",
        "sg = swan.read('swan.p')"
      ],
      "id": "empty-rochester",
      "execution_count": null,
      "outputs": []
    },
    {
      "cell_type": "markdown",
      "metadata": {
        "id": "demonstrated-moore"
      },
      "source": [
        "### What genes contain novel exon skipping events?"
      ],
      "id": "demonstrated-moore"
    },
    {
      "cell_type": "markdown",
      "metadata": {
        "id": "adjustable-summer"
      },
      "source": [
        "We can query the SwanGraph object for a table of exon skipping events. Here, we'll do just that as well as visualize the exon skipping events in a few genes."
      ],
      "id": "adjustable-summer"
    },
    {
      "cell_type": "code",
      "metadata": {
        "id": "monthly-discipline"
      },
      "source": [
        "# get table of exon skipping events\n",
        "es = sg.adata.uns['es']\n",
        "\n",
        "# add gene names, which I should make automatic in a future update!\n",
        "gnames = sg.t_df[['gid', 'gname']]\n",
        "print(len(es.index))\n",
        "es = es.merge(gnames, on='gid', how='left')\n",
        "es = es.drop_duplicates()\n",
        "es.head()"
      ],
      "id": "monthly-discipline",
      "execution_count": null,
      "outputs": []
    },
    {
      "cell_type": "code",
      "metadata": {
        "id": "wicked-psychiatry"
      },
      "source": [
        "# unique genes\n",
        "es_genes = es.gname.unique().tolist()\n",
        "print(len(es_genes))\n",
        "es_genes[5:10]"
      ],
      "id": "wicked-psychiatry",
      "execution_count": null,
      "outputs": []
    },
    {
      "cell_type": "markdown",
      "metadata": {
        "id": "infrared-aurora"
      },
      "source": [
        "Let's plot a few of these genes that have exon skipping events."
      ],
      "id": "infrared-aurora"
    },
    {
      "cell_type": "code",
      "metadata": {
        "id": "endless-foster"
      },
      "source": [
        "es.loc[es.gname == 'Srsf4'] # Srsf4 is a splicing factor!"
      ],
      "id": "endless-foster",
      "execution_count": null,
      "outputs": []
    },
    {
      "cell_type": "code",
      "metadata": {
        "id": "stuck-sacrifice"
      },
      "source": [
        "sg.plot_graph('Srsf4', indicate_novel=True)"
      ],
      "id": "stuck-sacrifice",
      "execution_count": null,
      "outputs": []
    },
    {
      "cell_type": "code",
      "metadata": {
        "id": "atomic-watershed"
      },
      "source": [
        "sg.plot_transcript_path('TALONT000495077', indicate_novel=True)"
      ],
      "id": "atomic-watershed",
      "execution_count": null,
      "outputs": []
    },
    {
      "cell_type": "code",
      "metadata": {
        "id": "athletic-split"
      },
      "source": [
        "es.loc[es.gname == 'Tnnt3']"
      ],
      "id": "athletic-split",
      "execution_count": null,
      "outputs": []
    },
    {
      "cell_type": "code",
      "metadata": {
        "id": "proud-anthony"
      },
      "source": [
        "sg.plot_graph('Tnnt3', indicate_novel=True)"
      ],
      "id": "proud-anthony",
      "execution_count": null,
      "outputs": []
    },
    {
      "cell_type": "code",
      "metadata": {
        "id": "complete-photographer"
      },
      "source": [
        "sg.plot_transcript_path('TALONT000560315', indicate_novel=True)"
      ],
      "id": "complete-photographer",
      "execution_count": null,
      "outputs": []
    },
    {
      "cell_type": "code",
      "metadata": {
        "id": "capable-continent"
      },
      "source": [
        "es.loc[es.gname == 'Vim']"
      ],
      "id": "capable-continent",
      "execution_count": null,
      "outputs": []
    },
    {
      "cell_type": "code",
      "metadata": {
        "id": "continent-northern"
      },
      "source": [
        "sg.plot_graph('Vim', indicate_novel=True)"
      ],
      "id": "continent-northern",
      "execution_count": null,
      "outputs": []
    },
    {
      "cell_type": "code",
      "metadata": {
        "id": "exposed-magic"
      },
      "source": [
        "sg.plot_transcript_path('TALONT000162980', indicate_novel=True)"
      ],
      "id": "exposed-magic",
      "execution_count": null,
      "outputs": []
    },
    {
      "cell_type": "markdown",
      "metadata": {
        "id": "loaded-graduation"
      },
      "source": [
        "### What genes contain novel intron retention events?"
      ],
      "id": "loaded-graduation"
    },
    {
      "cell_type": "markdown",
      "metadata": {
        "id": "continental-naples"
      },
      "source": [
        "We'll do the same thing for genes with novel intron retention events. We'll pull them from the SwanGraph and plot a few examples."
      ],
      "id": "continental-naples"
    },
    {
      "cell_type": "code",
      "metadata": {
        "id": "isolated-facing"
      },
      "source": [
        "# get table of intron retention events\n",
        "ir = sg.adata.uns['ir']\n",
        "\n",
        "# add gene names, which I should make automatic in a future update!\n",
        "gnames = sg.t_df[['gid', 'gname']]\n",
        "print(len(ir.index))\n",
        "ir = ir.merge(gnames, on='gid', how='left')\n",
        "ir = ir.drop_duplicates()\n",
        "ir.head()"
      ],
      "id": "isolated-facing",
      "execution_count": null,
      "outputs": []
    },
    {
      "cell_type": "code",
      "metadata": {
        "id": "statutory-christian"
      },
      "source": [
        "# unique genes\n",
        "ir_genes = ir.gname.unique().tolist()\n",
        "print(len(ir_genes))\n",
        "ir_genes[4]"
      ],
      "id": "statutory-christian",
      "execution_count": null,
      "outputs": []
    },
    {
      "cell_type": "code",
      "metadata": {
        "id": "small-distance"
      },
      "source": [
        "sg.plot_graph('Plekhb2', indicate_novel=True)"
      ],
      "id": "small-distance",
      "execution_count": null,
      "outputs": []
    },
    {
      "cell_type": "code",
      "metadata": {
        "id": "hawaiian-second"
      },
      "source": [
        "ir.loc[ir.gname == 'Plekhb2']"
      ],
      "id": "hawaiian-second",
      "execution_count": null,
      "outputs": []
    },
    {
      "cell_type": "code",
      "metadata": {
        "id": "abstract-barbados"
      },
      "source": [
        "sg.plot_transcript_path('TALONT000218169', indicate_novel=True)"
      ],
      "id": "abstract-barbados",
      "execution_count": null,
      "outputs": []
    },
    {
      "cell_type": "code",
      "metadata": {
        "id": "resident-islam"
      },
      "source": [
        "sg.plot_transcript_path('TALONT000218169', browser=True)"
      ],
      "id": "resident-islam",
      "execution_count": null,
      "outputs": []
    },
    {
      "cell_type": "code",
      "metadata": {
        "id": "institutional-growing"
      },
      "source": [
        "ir_genes[10:15]"
      ],
      "id": "institutional-growing",
      "execution_count": null,
      "outputs": []
    },
    {
      "cell_type": "code",
      "metadata": {
        "id": "reported-india"
      },
      "source": [
        "sg.plot_graph('Oaz1', indicate_novel=True)"
      ],
      "id": "reported-india",
      "execution_count": null,
      "outputs": []
    },
    {
      "cell_type": "code",
      "metadata": {
        "id": "persistent-elephant"
      },
      "source": [
        "ir.loc[ir.gname == 'Oaz1']"
      ],
      "id": "persistent-elephant",
      "execution_count": null,
      "outputs": []
    },
    {
      "cell_type": "code",
      "metadata": {
        "id": "closed-calendar"
      },
      "source": [
        "sg.plot_transcript_path('TALONT000269069', indicate_novel=True)"
      ],
      "id": "closed-calendar",
      "execution_count": null,
      "outputs": []
    },
    {
      "cell_type": "markdown",
      "metadata": {
        "id": "animal-excerpt"
      },
      "source": [
        "### What genes are differentially-expressed between myotubes and myoblasts?"
      ],
      "id": "animal-excerpt"
    },
    {
      "cell_type": "markdown",
      "metadata": {
        "id": "opposite-spokesman"
      },
      "source": [
        "Now we'll take a look at some of the results of statistical tests run between the myoblast and myotube conditions. We can access the differentially-expressed genes in the SwanGraph and provide q value and log fold change thresholds. Here we'll use q < 0.05 and log2fc > 1."
      ],
      "id": "opposite-spokesman"
    },
    {
      "cell_type": "code",
      "metadata": {
        "id": "smaller-consultancy"
      },
      "source": [
        "obs_col = 'time_point'\n",
        "obs_conditions = ['0hr', '72hr']"
      ],
      "id": "smaller-consultancy",
      "execution_count": null,
      "outputs": []
    },
    {
      "cell_type": "code",
      "metadata": {
        "id": "accredited-circulation"
      },
      "source": [
        "de_genes = sg.get_de_genes(obs_col, obs_conditions=obs_conditions,\n",
        "                           q=0.05, log2fc=1)"
      ],
      "id": "accredited-circulation",
      "execution_count": null,
      "outputs": []
    },
    {
      "cell_type": "code",
      "metadata": {
        "id": "danish-thread"
      },
      "source": [
        "de_genes.head()"
      ],
      "id": "danish-thread",
      "execution_count": null,
      "outputs": []
    },
    {
      "cell_type": "code",
      "metadata": {
        "id": "junior-spencer"
      },
      "source": [
        "# look for myo-related genes (which are often implicated in the myogenic process)\n",
        "de_genes.loc[de_genes.gname.str.contains('Myo')].head()"
      ],
      "id": "junior-spencer",
      "execution_count": null,
      "outputs": []
    },
    {
      "cell_type": "code",
      "metadata": {
        "id": "entire-discrimination"
      },
      "source": [
        "# number of differentially-expressed genes\n",
        "len(de_genes.index)"
      ],
      "id": "entire-discrimination",
      "execution_count": null,
      "outputs": []
    },
    {
      "cell_type": "markdown",
      "metadata": {
        "id": "conceptual-update"
      },
      "source": [
        "### What transcripts are differentially-expressed between myoblasts and myotubes?"
      ],
      "id": "conceptual-update"
    },
    {
      "cell_type": "markdown",
      "metadata": {
        "id": "difficult-arbor"
      },
      "source": [
        "Now we'll take a look at transcripts that are differentially-expressed between the time points. These can be accessed much in the same way that the differentially-expressed genes can be. We'll also make a gene report showing the differentially-expressed transcript isoforms in one gene, _Myo6_."
      ],
      "id": "difficult-arbor"
    },
    {
      "cell_type": "code",
      "metadata": {
        "id": "peaceful-jonathan"
      },
      "source": [
        "# results from differential transcript expression test\n",
        "de_transcripts = sg.get_de_transcripts(obs_col, obs_conditions=obs_conditions,\n",
        "                           q=0.05, log2fc=1)"
      ],
      "id": "peaceful-jonathan",
      "execution_count": null,
      "outputs": []
    },
    {
      "cell_type": "code",
      "metadata": {
        "id": "european-filling"
      },
      "source": [
        "de_transcripts.head()"
      ],
      "id": "european-filling",
      "execution_count": null,
      "outputs": []
    },
    {
      "cell_type": "code",
      "metadata": {
        "id": "objective-liechtenstein"
      },
      "source": [
        "# look for myo-related transcripts (which are often implicated in the myogenic process)\n",
        "de_transcripts.loc[de_transcripts.gname.str.contains('Myo')].head()"
      ],
      "id": "objective-liechtenstein",
      "execution_count": null,
      "outputs": []
    },
    {
      "cell_type": "code",
      "metadata": {
        "id": "molecular-electric"
      },
      "source": [
        "# look for Pkm, which has isoforms with important differences in expression\n",
        "# profile across myogenesis\n",
        "print(de_transcripts.loc[de_transcripts.gname == 'Pkm'])\n",
        "\n",
        "# same with Tpm2\n",
        "print(de_transcripts.loc[de_transcripts.gname == 'Tpm2'])"
      ],
      "id": "molecular-electric",
      "execution_count": null,
      "outputs": []
    },
    {
      "cell_type": "code",
      "metadata": {
        "id": "regulated-sigma"
      },
      "source": [
        "# how many differentially-expressed transcripts are there?\n",
        "len(de_transcripts.index)"
      ],
      "id": "regulated-sigma",
      "execution_count": null,
      "outputs": []
    },
    {
      "cell_type": "markdown",
      "metadata": {
        "id": "corrected-milan"
      },
      "source": [
        "We can use different colors to represent the two different time points in the dataset. Change them if you'd like! You can either use hex codes or [named matplotlib colors](https://matplotlib.org/stable/gallery/color/named_colors.html). "
      ],
      "id": "corrected-milan"
    },
    {
      "cell_type": "code",
      "metadata": {
        "id": "sharing-coating"
      },
      "source": [
        "# add some colors to represent the 2 different time points\n",
        "green = '#019f73'\n",
        "pink = '#cb79a7'\n",
        "cmap = {'0hr': pink, '72hr': green}\n",
        "sg.set_metadata_colors('time_point', cmap)"
      ],
      "id": "sharing-coating",
      "execution_count": null,
      "outputs": []
    },
    {
      "cell_type": "code",
      "metadata": {
        "id": "tender-addition"
      },
      "source": [
        "# make a plot showing significantly differentially expressed Myo6 isoforms\n",
        "sg.gen_report('Myo6',\n",
        "              'figures/myo6',\n",
        "              metadata_cols=['time_point'],\n",
        "              cmap='viridis',\n",
        "              transcript_name=True, \n",
        "              include_qvals=True,\n",
        "              qval_obs_col='time_point',\n",
        "              qval_obs_conditions=['0hr', '72hr'])"
      ],
      "id": "tender-addition",
      "execution_count": null,
      "outputs": []
    },
    {
      "cell_type": "markdown",
      "metadata": {
        "id": "entertaining-neighborhood"
      },
      "source": [
        "### What genes exhibit isoform switching between myoblasts and myotubes?"
      ],
      "id": "entertaining-neighborhood"
    },
    {
      "cell_type": "markdown",
      "metadata": {
        "id": "resistant-sequence"
      },
      "source": [
        "This is the most interesting stuff in my opinion. We can find genes that exhibit isoform switching (also called differential isoform expression, or DIE). These genes are characterized by a change in frequency of use of different constituent isoforms across the two conditions. The signficance thresholds for this test can be modulated by choosing a maximum p value threshold as well as a minimum change in percent isoform expression value, which is indicative of how substantial the isoform change is. Hopefully this will be better explained by making some figures though!"
      ],
      "id": "resistant-sequence"
    },
    {
      "cell_type": "code",
      "metadata": {
        "id": "parallel-prime"
      },
      "source": [
        "# results from differential transcript expression test\n",
        "die_genes = sg.get_die_genes(obs_col=obs_col, obs_conditions=obs_conditions,\n",
        "                             p=0.05, dpi=10)"
      ],
      "id": "parallel-prime",
      "execution_count": null,
      "outputs": []
    },
    {
      "cell_type": "code",
      "metadata": {
        "id": "careful-antique"
      },
      "source": [
        "die_genes.head()"
      ],
      "id": "careful-antique",
      "execution_count": null,
      "outputs": []
    },
    {
      "cell_type": "code",
      "metadata": {
        "id": "violent-honduras"
      },
      "source": [
        "# add gene names, which I should make automatic in future releases!\n",
        "gnames = sg.t_df[['gname', 'gid']].drop_duplicates()\n",
        "die_genes = die_genes.merge(gnames, on='gid', how='left')"
      ],
      "id": "violent-honduras",
      "execution_count": null,
      "outputs": []
    },
    {
      "cell_type": "code",
      "metadata": {
        "id": "selective-sailing"
      },
      "source": [
        "die_genes = die_genes.sort_values(by='dpi', ascending=False)\n",
        "die_genes.head()"
      ],
      "id": "selective-sailing",
      "execution_count": null,
      "outputs": []
    },
    {
      "cell_type": "markdown",
      "metadata": {
        "id": "mysterious-freight"
      },
      "source": [
        "Plotting some isoform-switching genes:"
      ],
      "id": "mysterious-freight"
    },
    {
      "cell_type": "code",
      "metadata": {
        "id": "suffering-syria"
      },
      "source": [
        "die_genes.loc[die_genes.gname == 'Dlgap4']"
      ],
      "id": "suffering-syria",
      "execution_count": null,
      "outputs": []
    },
    {
      "cell_type": "code",
      "metadata": {
        "id": "athletic-samuel"
      },
      "source": [
        "sg.gen_report('Dlgap4',\n",
        "              'figures/dlgap4',\n",
        "              metadata_cols=['time_point'],\n",
        "              cmap='viridis',\n",
        "              transcript_name=True, \n",
        "              browser=True)"
      ],
      "id": "athletic-samuel",
      "execution_count": null,
      "outputs": []
    },
    {
      "cell_type": "code",
      "metadata": {
        "id": "educational-liverpool"
      },
      "source": [
        "sg.gen_report('Dlgap4',\n",
        "              'figures/dlgap4',\n",
        "              metadata_cols=['time_point'],\n",
        "              cmap='magma',\n",
        "              transcript_name=True, \n",
        "              layer='pi',\n",
        "              display_numbers=True)"
      ],
      "id": "educational-liverpool",
      "execution_count": null,
      "outputs": []
    },
    {
      "cell_type": "code",
      "metadata": {
        "id": "toxic-command"
      },
      "source": [
        "die_genes.loc[die_genes.gname == 'Tnnt2']"
      ],
      "id": "toxic-command",
      "execution_count": null,
      "outputs": []
    },
    {
      "cell_type": "code",
      "metadata": {
        "id": "complimentary-eagle"
      },
      "source": [
        "sg.gen_report('Tnnt2',\n",
        "              'figures/tnnt2',\n",
        "              metadata_cols=['time_point'],\n",
        "              cmap='viridis',\n",
        "              transcript_name=True,\n",
        "              novelty=True, \n",
        "              indicate_novel=True)"
      ],
      "id": "complimentary-eagle",
      "execution_count": null,
      "outputs": []
    },
    {
      "cell_type": "code",
      "metadata": {
        "id": "incident-upset"
      },
      "source": [
        "sg.gen_report('Tnnt2',\n",
        "              'figures/tnnt2',\n",
        "              metadata_cols=['time_point'],\n",
        "              cmap='magma',\n",
        "              transcript_name=True,\n",
        "              layer='pi',\n",
        "              display_numbers=True,\n",
        "              novelty=True, \n",
        "              browser=True)"
      ],
      "id": "incident-upset",
      "execution_count": null,
      "outputs": []
    },
    {
      "cell_type": "code",
      "metadata": {
        "id": "sublime-continuity"
      },
      "source": [
        "die_genes.loc[die_genes.gname == 'Coro6']"
      ],
      "id": "sublime-continuity",
      "execution_count": null,
      "outputs": []
    },
    {
      "cell_type": "code",
      "metadata": {
        "id": "enhanced-alexander"
      },
      "source": [
        "sg.gen_report('Coro6',\n",
        "              'figures/coro6',\n",
        "              metadata_cols=['time_point'],\n",
        "              cmap='viridis',\n",
        "              transcript_name=True,\n",
        "              novelty=True, \n",
        "              indicate_novel=True)"
      ],
      "id": "enhanced-alexander",
      "execution_count": null,
      "outputs": []
    },
    {
      "cell_type": "code",
      "metadata": {
        "id": "aggregate-forwarding"
      },
      "source": [
        "sg.gen_report('Coro6',\n",
        "              'figures/coro6',\n",
        "              metadata_cols=['time_point'],\n",
        "              cmap='magma',\n",
        "              transcript_name=True,\n",
        "              novelty=True, \n",
        "              layer='pi', \n",
        "              browser=True)"
      ],
      "id": "aggregate-forwarding",
      "execution_count": null,
      "outputs": []
    },
    {
      "cell_type": "code",
      "metadata": {
        "id": "dental-invite"
      },
      "source": [
        "die_genes.loc[die_genes.gname == 'Smtn']"
      ],
      "id": "dental-invite",
      "execution_count": null,
      "outputs": []
    },
    {
      "cell_type": "code",
      "metadata": {
        "id": "dynamic-roommate"
      },
      "source": [
        "sg.gen_report('Smtn',\n",
        "              'figures/smtn',\n",
        "              metadata_cols=['time_point'],\n",
        "              cmap='magma',\n",
        "              transcript_name=True,\n",
        "              novelty=True, \n",
        "              layer='pi', \n",
        "              browser=True)"
      ],
      "id": "dynamic-roommate",
      "execution_count": null,
      "outputs": []
    },
    {
      "cell_type": "code",
      "metadata": {
        "id": "unique-brief"
      },
      "source": [
        "die_genes.loc[die_genes.gname == 'Pkm']"
      ],
      "id": "unique-brief",
      "execution_count": null,
      "outputs": []
    },
    {
      "cell_type": "code",
      "metadata": {
        "id": "primary-election"
      },
      "source": [
        "sg.gen_report('Pkm',\n",
        "              'figures/pkm',\n",
        "              metadata_cols=['time_point'],\n",
        "              cmap='magma',\n",
        "              transcript_name=True,\n",
        "              novelty=True, \n",
        "              layer='pi', \n",
        "              browser=True)"
      ],
      "id": "primary-election",
      "execution_count": null,
      "outputs": []
    },
    {
      "cell_type": "markdown",
      "metadata": {
        "id": "extended-basketball"
      },
      "source": [
        "### More complex gene queries"
      ],
      "id": "extended-basketball"
    },
    {
      "cell_type": "markdown",
      "metadata": {
        "id": "digital-voice"
      },
      "source": [
        "Let's try to see if there are any genes that are interesting in more than one way. For instance, are there any isoform-switching genes that also have novel exon skipping events? We can check by taking the intersection of these gene sets, and we'll plot some of the results."
      ],
      "id": "digital-voice"
    },
    {
      "cell_type": "code",
      "metadata": {
        "id": "colonial-manchester"
      },
      "source": [
        "# get table of exon skipping events\n",
        "es = sg.adata.uns['es']\n",
        "\n",
        "# add gene names, which I should make automatic in a future update!\n",
        "gnames = sg.t_df[['gid', 'gname']]\n",
        "es = es.merge(gnames, on='gid', how='left')\n",
        "es = es.drop_duplicates()\n",
        "es_genes = es.gname.unique().tolist()\n",
        "es_genes[5:10]"
      ],
      "id": "colonial-manchester",
      "execution_count": null,
      "outputs": []
    },
    {
      "cell_type": "code",
      "metadata": {
        "id": "fundamental-wholesale"
      },
      "source": [
        "# get a table of isoform-switching genes\n",
        "die = sg.get_die_genes(obs_col='time_point',\n",
        "                        obs_conditions=['0hr', '72hr'],\n",
        "                        p=0.05, dpi=10)\n",
        "\n",
        "# add gene names, which I should make automatic in a future update!\n",
        "gnames = sg.t_df[['gid', 'gname']].drop_duplicates()\n",
        "die = die.merge(gnames, on='gid', how='left')\n",
        "die = die.sort_values(by='dpi', ascending=False)\n",
        "print(die.head())\n",
        "die_genes = die.gname.unique().tolist()\n",
        "print(len(die_genes))\n",
        "die_genes[:5]"
      ],
      "id": "fundamental-wholesale",
      "execution_count": null,
      "outputs": []
    },
    {
      "cell_type": "code",
      "metadata": {
        "id": "joined-jamaica"
      },
      "source": [
        "# get the intersection of novel exon skipping genes and isoform switching genes\n",
        "genes = list(set(die_genes)&set(es_genes))\n",
        "genes[:10]"
      ],
      "id": "joined-jamaica",
      "execution_count": null,
      "outputs": []
    },
    {
      "cell_type": "code",
      "metadata": {
        "id": "advised-stadium"
      },
      "source": [
        "sg.plot_graph('Chp1', indicate_novel=True)"
      ],
      "id": "advised-stadium",
      "execution_count": null,
      "outputs": []
    },
    {
      "cell_type": "code",
      "metadata": {
        "id": "stuck-telephone"
      },
      "source": [
        "sg.gen_report('Chp1',\n",
        "              'figures/chp1',\n",
        "              metadata_cols=['time_point'],\n",
        "              cmap='magma',\n",
        "              transcript_name=True,\n",
        "              novelty=True, \n",
        "              layer='pi', \n",
        "              browser=True,\n",
        "              display_numbers=True)"
      ],
      "id": "stuck-telephone",
      "execution_count": null,
      "outputs": []
    },
    {
      "cell_type": "code",
      "metadata": {
        "id": "palestinian-tyler"
      },
      "source": [
        "sg.gen_report('Chp1',\n",
        "              'figures/chp1',\n",
        "              metadata_cols=['time_point'],\n",
        "              cmap='viridis',\n",
        "              transcript_name=True,\n",
        "              novelty=True,\n",
        "              indicate_novel=True)"
      ],
      "id": "palestinian-tyler",
      "execution_count": null,
      "outputs": []
    },
    {
      "cell_type": "code",
      "metadata": {
        "id": "demanding-anthropology"
      },
      "source": [
        "# which transcript has the novel exon skipping event\n",
        "es.loc[es.gname == 'Tfdp1']"
      ],
      "id": "demanding-anthropology",
      "execution_count": null,
      "outputs": []
    },
    {
      "cell_type": "code",
      "metadata": {
        "id": "ecological-uncle"
      },
      "source": [
        "sg.plot_graph('Tfdp1', indicate_novel=True, prefix='figures/tfdpi1')"
      ],
      "id": "ecological-uncle",
      "execution_count": null,
      "outputs": []
    },
    {
      "cell_type": "code",
      "metadata": {
        "id": "determined-kuwait"
      },
      "source": [
        "sg.plot_transcript_path('TALONT000169332', indicate_novel=True, prefix='figures/tfdp1')"
      ],
      "id": "determined-kuwait",
      "execution_count": null,
      "outputs": []
    },
    {
      "cell_type": "code",
      "metadata": {
        "id": "lesbian-chaos"
      },
      "source": [
        "sg.gen_report('Tfdp1',\n",
        "              'figures/tfdp1',\n",
        "              metadata_cols=['time_point'],\n",
        "              cmap='magma',\n",
        "              transcript_name=True,\n",
        "              novelty=True, \n",
        "              layer='pi', \n",
        "              browser=True,\n",
        "              display_numbers=True)"
      ],
      "id": "lesbian-chaos",
      "execution_count": null,
      "outputs": []
    },
    {
      "cell_type": "code",
      "metadata": {
        "id": "remarkable-accordance"
      },
      "source": [
        "sg.gen_report('Tfdp1',\n",
        "              'figures/tfdp1',\n",
        "              metadata_cols=['time_point'],\n",
        "              cmap='viridis',\n",
        "              transcript_name=True,\n",
        "              novelty=True,\n",
        "              indicate_novel=True)"
      ],
      "id": "remarkable-accordance",
      "execution_count": null,
      "outputs": []
    },
    {
      "cell_type": "markdown",
      "metadata": {
        "id": "prospective-nerve"
      },
      "source": [
        "### What genes exhibit TSS switching between myoblasts and myotubes?"
      ],
      "id": "prospective-nerve"
    },
    {
      "cell_type": "markdown",
      "metadata": {
        "id": "equivalent-rough"
      },
      "source": [
        "Just the same as the isoform switching genes, we can also query for transcription start site (TSS) switching genes. These can also be visualized with Swan, or Scanpy as the presentation demonstrated."
      ],
      "id": "equivalent-rough"
    },
    {
      "cell_type": "code",
      "metadata": {
        "id": "crazy-worst"
      },
      "source": [
        "import scanpy as sc # we'll use scanpy to make a few plots here as well\n",
        "\n",
        "tss_genes = sg.get_die_genes(kind='tss', obs_col=obs_col,\n",
        "                        obs_conditions=obs_conditions,\n",
        "                        p=0.05, dpi=10)\n",
        "tss_genes = tss_genes.merge(sg.t_df[['gid', 'gname']].drop_duplicates(), on='gid', how='left')\n",
        "tss_genes.sort_values(by='dpi', ascending=False)"
      ],
      "id": "crazy-worst",
      "execution_count": null,
      "outputs": []
    },
    {
      "cell_type": "code",
      "metadata": {
        "id": "helpful-vacation"
      },
      "source": [
        "sg.gen_report('Tnnt2',\n",
        "              'figures/tnnt2',\n",
        "              metadata_cols=['time_point'],\n",
        "              cmap='viridis',\n",
        "              transcript_name=True,\n",
        "              novelty=True,\n",
        "              indicate_novel=True)"
      ],
      "id": "helpful-vacation",
      "execution_count": null,
      "outputs": []
    },
    {
      "cell_type": "code",
      "metadata": {
        "id": "other-tyler"
      },
      "source": [
        "sg.gen_report('Tnnt2',\n",
        "              'figures/tnnt2',\n",
        "              metadata_cols=['time_point'],\n",
        "              cmap='magma',\n",
        "              transcript_name=True,\n",
        "              novelty=True, \n",
        "              layer='pi', \n",
        "              browser=True,\n",
        "              display_numbers=True)"
      ],
      "id": "other-tyler",
      "execution_count": null,
      "outputs": []
    },
    {
      "cell_type": "code",
      "metadata": {
        "id": "lovely-weekly"
      },
      "source": [
        "var_names = sg.tss_adata.var.loc[sg.tss_adata.var.gname == 'Tnnt2', 'tss_name'].tolist()\n",
        "sc.pl.matrixplot(sg.tss_adata, var_names,\n",
        "                 gene_symbols='tss_name',\n",
        "                 groupby='time_point', layer='pi',\n",
        "                 cmap='magma', swap_axes=True)"
      ],
      "id": "lovely-weekly",
      "execution_count": null,
      "outputs": []
    },
    {
      "cell_type": "markdown",
      "metadata": {
        "id": "charming-store"
      },
      "source": [
        "### What genes exhibit TES switching between myoblasts and myotubes?"
      ],
      "id": "charming-store"
    },
    {
      "cell_type": "markdown",
      "metadata": {
        "id": "intermediate-musician"
      },
      "source": [
        "And we'll do the same thing with TES switching genes."
      ],
      "id": "intermediate-musician"
    },
    {
      "cell_type": "code",
      "metadata": {
        "id": "measured-azerbaijan"
      },
      "source": [
        "tes_genes = sg.get_die_genes(kind='tes', obs_col=obs_col,\n",
        "                        obs_conditions=obs_conditions,\n",
        "                        p=0.05, dpi=10)\n",
        "tes_genes = tes_genes.merge(sg.t_df[['gid', 'gname']].drop_duplicates(), on='gid', how='left')\n",
        "tes_genes.sort_values(by='dpi', ascending=False)"
      ],
      "id": "measured-azerbaijan",
      "execution_count": null,
      "outputs": []
    },
    {
      "cell_type": "code",
      "metadata": {
        "id": "forward-measure"
      },
      "source": [
        "sg.gen_report('Tpm1',\n",
        "              'figures/tpm1',\n",
        "              metadata_cols=['time_point'],\n",
        "              groupby='time_point', \n",
        "              cmap='viridis',\n",
        "              transcript_name=True,\n",
        "              novelty=True,\n",
        "              indicate_novel=True)"
      ],
      "id": "forward-measure",
      "execution_count": null,
      "outputs": []
    },
    {
      "cell_type": "code",
      "metadata": {
        "id": "spanish-russell"
      },
      "source": [
        "sg.gen_report('Tpm1',\n",
        "              'figures/tpm1',\n",
        "              metadata_cols=['time_point'],\n",
        "              groupby='time_point', \n",
        "              cmap='magma',\n",
        "              transcript_name=True,\n",
        "              novelty=True, \n",
        "              layer='pi', \n",
        "              browser=True,\n",
        "              display_numbers=True)"
      ],
      "id": "spanish-russell",
      "execution_count": null,
      "outputs": []
    },
    {
      "cell_type": "code",
      "metadata": {
        "id": "republican-creature"
      },
      "source": [
        "var_names = sg.tes_adata.var.loc[sg.tes_adata.var.gname == 'Tpm1', 'tes_name'].tolist()\n",
        "sc.pl.matrixplot(sg.tes_adata, var_names,\n",
        "                 gene_symbols='tes_name',\n",
        "                 groupby='time_point', layer='pi',\n",
        "                 cmap='magma', swap_axes=True)"
      ],
      "id": "republican-creature",
      "execution_count": null,
      "outputs": []
    },
    {
      "cell_type": "code",
      "metadata": {
        "id": "acoustic-likelihood"
      },
      "source": [
        ""
      ],
      "id": "acoustic-likelihood",
      "execution_count": null,
      "outputs": []
    }
  ]
}